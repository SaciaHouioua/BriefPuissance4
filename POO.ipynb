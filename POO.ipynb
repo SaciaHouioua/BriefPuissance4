{
 "cells": [
  {
   "cell_type": "markdown",
   "metadata": {},
   "source": [
    "POO"
   ]
  },
  {
   "cell_type": "markdown",
   "metadata": {},
   "source": [
    "### Les classes et le principe d’encapsulation\n",
    "le principe d'enfermer le code dans une “capsule”, dans un espace en dehors de l’espace global. Cela permet d’éviter d’utiliser des variables globales.\n",
    "\n",
    "Chaque objet créé à partir d’une classe qui posséde SES attributs de données et SES méthodes qui ne vont pas être accessibles depuis l’extérieur de l’objet et qui ne vont donc pas polluer l’espace global.\n",
    "\n",
    "Initialiser des objets avec __init__()\n",
    "\n",
    "\n",
    "Une variable de classe est en fait “partagée” par tous les objets de la classe. On dit que chaque objet de la classe accède à la variable par référence.\n",
    "\n"
   ]
  },
  {
   "cell_type": "code",
   "execution_count": 46,
   "metadata": {},
   "outputs": [],
   "source": [
    "class User :\n",
    "    ancienneté = 0\n",
    "    \n",
    "    def __init__(self,age, nom):\n",
    "        self.user_nom = nom\n",
    "        self.user_age = age\n",
    "        \n",
    "        \n",
    "    def getName(self):\n",
    "        print(f\"salut je suis {self.user_nom}\")\n",
    "        \n",
    "pierre = User(\"Pierre\",28)\n",
    "        \n",
    "    "
   ]
  },
  {
   "cell_type": "code",
   "execution_count": 47,
   "metadata": {},
   "outputs": [
    {
     "name": "stdout",
     "output_type": "stream",
     "text": [
      "0\n",
      "Pierre\n"
     ]
    }
   ],
   "source": [
    "\n",
    "print(pierre.ancienneté)\n",
    "print(pierre.user_age)"
   ]
  },
  {
   "cell_type": "code",
   "execution_count": 48,
   "metadata": {},
   "outputs": [
    {
     "name": "stdout",
     "output_type": "stream",
     "text": [
      "salut je suis 28\n"
     ]
    }
   ],
   "source": [
    "pierre.getName()"
   ]
  },
  {
   "cell_type": "markdown",
   "metadata": {},
   "source": [
    "#### Héritage et polymorphisme en Python orienté objet\n",
    "\n",
    "En POO, “hériter” signifie “avoir également accès à”. \n",
    "\n",
    "Lorsqu’on dit qu’un objet “hérite” des méthodes de la classe qui l’a défini, cela signifie que l’objet peut utiliser ces méthodes; qu’il y a accès.\n",
    "\n",
    "En python on peut, créer des “sous-classes” ou des classes “enfants” à partir de classes de base ou classes “parentes”.\n",
    "\n",
    "Ce principe d’héritage permet de créer des classes de base qui vont définir des fonctionnalités communes à plusieurs classes puis des sous-classes qui vont hériter de ces fonctionnalités et pouvoir également définir leurs propres fonctionnalités.\n",
    "\n",
    "\n",
    "\n"
   ]
  },
  {
   "cell_type": "code",
   "execution_count": 49,
   "metadata": {},
   "outputs": [],
   "source": [
    "class Joueur (User):\n",
    "    gagnant = False"
   ]
  },
  {
   "cell_type": "code",
   "execution_count": 50,
   "metadata": {},
   "outputs": [
    {
     "name": "stdout",
     "output_type": "stream",
     "text": [
      "0\n",
      "Mathilde\n",
      "False\n"
     ]
    }
   ],
   "source": [
    "mathilde = Joueur(25,\"Mathilde\")\n",
    "print(mathilde.ancienneté)\n",
    "print(mathilde.user_nom)\n",
    "print(mathilde.gagnant)"
   ]
  },
  {
   "cell_type": "markdown",
   "metadata": {},
   "source": [
    "####  La surcharge des méthodes de classe\n",
    "“Surcharger” une méthode signifie la redéfinir d’une façon différente. \n",
    "\n",
    " En Python les classes filles ou sous-classes peuvent  :\n",
    "         -  surcharger les méthodes héritées \n",
    "         -  définir des variables de même nom que celles de leur classe parent.\n",
    "         \n",
    " "
   ]
  },
  {
   "cell_type": "markdown",
   "metadata": {},
   "source": [
    "#### Les tests d’héritage Python\n",
    "comment l’objet fait pour déterminer si il doit utiliser les variables ou méthodes de sa classe ou de la classe mère dont sa classe hérite ?\n",
    "\n",
    "Python va “remonter” le long de la chaine d’héritage des classes jusqu’à trouver l’information demandée. Si. Elle n’est jamais trouvée, il renverra une erreur.\n",
    "\n",
    "Il  fournit également deux fonctions pour permettre de tester le type d’une instance et l’héritage d’une classe: \n",
    "\n",
    "    - La fonction isinstance() : permet de savoir si un objet appartient à une certaine classe ou pas\n",
    "    - La fonction issubclass() : permet de savoir si une classe hérite bien d’une autre classe ou pas. "
   ]
  },
  {
   "cell_type": "code",
   "execution_count": 51,
   "metadata": {},
   "outputs": [
    {
     "data": {
      "text/plain": [
       "True"
      ]
     },
     "execution_count": 51,
     "metadata": {},
     "output_type": "execute_result"
    }
   ],
   "source": [
    "isinstance(pierre,User) "
   ]
  },
  {
   "cell_type": "code",
   "execution_count": 52,
   "metadata": {},
   "outputs": [
    {
     "data": {
      "text/plain": [
       "False"
      ]
     },
     "execution_count": 52,
     "metadata": {},
     "output_type": "execute_result"
    }
   ],
   "source": [
    "isinstance(pierre,Joueur)"
   ]
  },
  {
   "cell_type": "code",
   "execution_count": 53,
   "metadata": {},
   "outputs": [
    {
     "data": {
      "text/plain": [
       "True"
      ]
     },
     "execution_count": 53,
     "metadata": {},
     "output_type": "execute_result"
    }
   ],
   "source": [
    "isinstance(mathilde,User) "
   ]
  },
  {
   "cell_type": "code",
   "execution_count": 54,
   "metadata": {},
   "outputs": [
    {
     "data": {
      "text/plain": [
       "True"
      ]
     },
     "execution_count": 54,
     "metadata": {},
     "output_type": "execute_result"
    }
   ],
   "source": [
    "isinstance(mathilde,Joueur) "
   ]
  },
  {
   "cell_type": "code",
   "execution_count": 55,
   "metadata": {},
   "outputs": [
    {
     "data": {
      "text/plain": [
       "True"
      ]
     },
     "execution_count": 55,
     "metadata": {},
     "output_type": "execute_result"
    }
   ],
   "source": [
    "issubclass(Joueur, User)"
   ]
  },
  {
   "cell_type": "code",
   "execution_count": 56,
   "metadata": {},
   "outputs": [
    {
     "data": {
      "text/plain": [
       "False"
      ]
     },
     "execution_count": 56,
     "metadata": {},
     "output_type": "execute_result"
    }
   ],
   "source": [
    "issubclass(User, int)"
   ]
  },
  {
   "cell_type": "markdown",
   "metadata": {},
   "source": [
    "#### Le polymorphisme en Python orienté objet\n",
    "En POO, le polymorphisme est un concept qui fait référence à la capacité d’une variable, d’une fonction ou d’un objet à prendre plusieurs formes, c’est-à-dire à sa capacité de posséder plusieurs définitions différentes.\n",
    "\n",
    "Un exemple typique de polymorphisme : plusieurs sous-classes héritent d’une méthode d’une classe de base qu’ils implémentent de manière différente."
   ]
  },
  {
   "cell_type": "markdown",
   "metadata": {},
   "source": [
    "#### Héritage multiple\n",
    "\n",
    "On parle d’héritage multiple lorsqu’une sous-classe peut hériter de plusieurs classes mères différentes."
   ]
  },
  {
   "cell_type": "markdown",
   "metadata": {},
   "source": [
    "### Gérer la visibilité des membres de classe en Python orienté objet\n",
    "on peut définir des “niveaux de visibilité” ou “niveaux d’accès” pour les membres des classes (c’est-à-dire pour les variables et les fonctions).\n",
    "\n",
    "En POO, on distingue généralement trois niveaux de visibilité différents :\n",
    "\n",
    "Les membres privés auxquels on ne peut accéder que depuis l’intérieur de lac classe ;\n",
    "Les membres protégés auxquels on ne peut accéder que depuis l’intérieur de la classe ou depuis une classe fille ;\n",
    "Les membres publics auxquels on peut accéder depuis n’importe quelle instance (ou objet) de la classe ou d’une classe fille.\n",
    "\n",
    "Ces niveaux de visibilité permettent de “protéger” certains membres de classes qui ne devraient pas être modifiés dans n’importe quelle situation ou depuis n’importe quel endroit.\n",
    "\n",
    "#### Les niveaux de visibilité des membres de classe en Python par\n",
    "\n",
    "Par défaut, tous les membres de classe sont publics en Python.\n",
    "\n",
    "En revanche, certaines conventions ont été mises en place par la communauté Python.\n",
    "\n",
    "par défaut, tous les membres de classe sont publics en Python.\n",
    "\n",
    "Attention ici : ce ne sont que des conventions qui n’ont aucun équivalent réel en Python mais tous les membres seront toujours publics en Python\n",
    "\n",
    "\n",
    "Ces conventions sont les suivantes :\n",
    "\n",
    "Les noms des membres qu’on souhaite définir comme “privés” avec deux underscores comme ceci :\n",
    "\n",
    "     __nom-du-membre \n",
    " \n",
    "Les noms des membres qu’on souhaite définir comme “protégés” avec un underscore comme ceci :\n",
    "\n",
    "    _nom-du-membre.\n",
    "\n",
    "\n",
    "Python possède un mécanisme appelé “name mangling” qui fait que tout membre de classe commençant par deux underscores, c’est-à-dire de la forme __nom-du-membre sera remplacé textuellement lors de l’interprétation par _nom-de-classe__nom-du-membre.\n",
    "\n"
   ]
  },
  {
   "cell_type": "code",
   "execution_count": 57,
   "metadata": {},
   "outputs": [],
   "source": [
    "class C :\n",
    "    Public = \"variable public\"\n",
    "    _proteted = \"variable protégée\"\n",
    "    __Private = \"variable privée\"\n",
    "    "
   ]
  },
  {
   "cell_type": "code",
   "execution_count": 59,
   "metadata": {},
   "outputs": [
    {
     "data": {
      "text/plain": [
       "'variable public'"
      ]
     },
     "execution_count": 59,
     "metadata": {},
     "output_type": "execute_result"
    }
   ],
   "source": [
    "objet = Visibilité()\n",
    "objet.Public"
   ]
  },
  {
   "cell_type": "code",
   "execution_count": 61,
   "metadata": {},
   "outputs": [
    {
     "data": {
      "text/plain": [
       "'variable protégée'"
      ]
     },
     "execution_count": 61,
     "metadata": {},
     "output_type": "execute_result"
    }
   ],
   "source": [
    "objet._proteted"
   ]
  },
  {
   "cell_type": "code",
   "execution_count": 62,
   "metadata": {},
   "outputs": [
    {
     "ename": "AttributeError",
     "evalue": "'Visibilité' object has no attribute '__Private'",
     "output_type": "error",
     "traceback": [
      "\u001b[0;31m---------------------------------------------------------------------------\u001b[0m",
      "\u001b[0;31mAttributeError\u001b[0m                            Traceback (most recent call last)",
      "\u001b[0;32m<ipython-input-62-b80db9c0999a>\u001b[0m in \u001b[0;36m<module>\u001b[0;34m\u001b[0m\n\u001b[0;32m----> 1\u001b[0;31m \u001b[0mobjet\u001b[0m\u001b[0;34m.\u001b[0m\u001b[0m__Private\u001b[0m\u001b[0;34m\u001b[0m\u001b[0;34m\u001b[0m\u001b[0m\n\u001b[0m",
      "\u001b[0;31mAttributeError\u001b[0m: 'Visibilité' object has no attribute '__Private'"
     ]
    }
   ],
   "source": [
    "objet.__Private"
   ]
  },
  {
   "cell_type": "code",
   "execution_count": 63,
   "metadata": {},
   "outputs": [
    {
     "data": {
      "text/plain": [
       "'variable privée'"
      ]
     },
     "execution_count": 63,
     "metadata": {},
     "output_type": "execute_result"
    }
   ],
   "source": [
    "objet._Visibilité__Private"
   ]
  },
  {
   "cell_type": "code",
   "execution_count": 65,
   "metadata": {},
   "outputs": [
    {
     "name": "stdout",
     "output_type": "stream",
     "text": [
      "[[0 0 0 0 0 0 0]\n",
      " [0 0 0 0 0 0 0]\n",
      " [0 0 0 0 0 0 0]\n",
      " [0 0 0 0 0 0 0]\n",
      " [0 0 0 0 0 0 0]\n",
      " [0 0 0 0 0 0 0]] \n",
      "\n",
      "Choose your game: \n",
      " 1: Player1 Vs Player2 \n",
      " 2: Player1 VS Bot \n",
      " 3: Bot VS Bot \n",
      "1\n",
      " gamer 1\n",
      "Select a number between 0 and 6: 2\n",
      "[[0 0 0 0 0 0 0]\n",
      " [0 0 0 0 0 0 0]\n",
      " [0 0 0 0 0 0 0]\n",
      " [0 0 0 0 0 0 0]\n",
      " [0 0 0 0 0 0 0]\n",
      " [0 0 1 0 0 0 0]] \n",
      "\n",
      " gamer 2\n",
      "Select a number between 0 and 6: 3\n",
      "[[0 0 0 0 0 0 0]\n",
      " [0 0 0 0 0 0 0]\n",
      " [0 0 0 0 0 0 0]\n",
      " [0 0 0 0 0 0 0]\n",
      " [0 0 1 0 0 0 0]\n",
      " [0 0 1 2 0 0 0]] \n",
      "\n",
      " gamer 1\n",
      "Select a number between 0 and 6: 2\n",
      "[[0 0 0 0 0 0 0]\n",
      " [0 0 0 0 0 0 0]\n",
      " [0 0 0 0 0 0 0]\n",
      " [0 0 1 0 0 0 0]\n",
      " [0 0 1 2 0 0 0]\n",
      " [0 0 1 2 0 0 0]] \n",
      "\n",
      " gamer 2\n",
      "Select a number between 0 and 6: 3\n",
      "[[0 0 0 0 0 0 0]\n",
      " [0 0 0 0 0 0 0]\n",
      " [0 0 1 0 0 0 0]\n",
      " [0 0 1 2 0 0 0]\n",
      " [0 0 1 2 0 0 0]\n",
      " [0 0 1 2 0 0 0]] \n",
      "\n"
     ]
    }
   ],
   "source": [
    "import numpy as np\n",
    "\n",
    "class Gamer():\n",
    "\n",
    "    \n",
    "    \"\"\"\n",
    "    attributs : identification, couleur, nom ou numéro 1 et -1\n",
    "    methode : faire un choix de colonne\n",
    "\n",
    "    \n",
    "    \n",
    "    joueur_humain(joueur)\n",
    "    faire un choix de colonne(input)\n",
    "\n",
    "    joueur_bot(joueur)\n",
    "    faire un choix de colonne, 2 choix : random ou IA\n",
    "    \"\"\"\n",
    "\n",
    "    def __init__(self, numero, couleur):\n",
    "        self.numero = numero\n",
    "        self.couleur = couleur\n",
    "        #self.choicePlay = choicePlay\n",
    "        # self.choice = choice\n",
    "\n",
    "\n",
    "    \n",
    "\n",
    "    def choicePlay(self):\n",
    "           \n",
    "            choice = int(input('Choose your game: \\n 1: Player1 Vs Player2 \\n 2: Player1 VS Bot \\n 3: Bot VS Bot \\n'))\n",
    "            #if self.choice == 1:\n",
    "            return choice\n",
    "\n",
    "class HumanGamer(Gamer):\n",
    "\n",
    "    def input_humain(self):\n",
    "        print(f\" gamer {self.numero :}\")\n",
    "        choice = int(input('Select a number between 0 and 6: '))\n",
    "        return choice \n",
    "\n",
    "class CPUGamer(Gamer):\n",
    "    \n",
    "    def input_CPU(self):\n",
    "        choice = np.random.randint(0, 7) # random player choice\n",
    "        return choice \n",
    "\n",
    "\n",
    "\n",
    "\n",
    "\n",
    "\n",
    "\n",
    "class Board():\n",
    "    \"\"\"\n",
    "    objets : joueurs,  interface d'affichage \n",
    "    attribut : plateau, type de joueur\n",
    "    methode : vérification ligne, colonne, diagonale ; player_input ; global_player(42 coups)\n",
    "\n",
    "    Principe de gravité (les colonnes se remplissent)\n",
    "\n",
    "\n",
    "    is_board_full\n",
    "    is_col_full\n",
    "\n",
    "    \"\"\"\n",
    "\n",
    "    def __init__(self):\n",
    "        self.nblines_int = 6\n",
    "        self.nbcolumns_int = 7\n",
    "        self.board = np.zeros((self.nblines_int, self.nbcolumns_int), dtype=int)\n",
    "\n",
    "    def displayBoard(self):\n",
    "        \"\"\"\n",
    "        DOCSTRING: Display the board\n",
    "        \"\"\"\n",
    "        board = self.board\n",
    "        return print(board, \"\\n\")\n",
    "\n",
    "    def isColFull(self, column:int):\n",
    "        if 0 not in self.board[:,column]:\n",
    "            return True\n",
    "        else:\n",
    "            return False\n",
    "\n",
    "    def colChoice(self, player:int, choice:int):\n",
    "        \"\"\"\n",
    "        DOCSTRING: Inserting a coin into a col\n",
    "        \"\"\"\n",
    "    \n",
    "        if self.isBoardFull():\n",
    "            return -2\n",
    "        elif self.isColFull(choice):\n",
    "            print(f'Column {choice} full')\n",
    "            return -1\n",
    "        else:\n",
    "            column = self.board[:,choice]\n",
    "            for i in range(0, self.nblines_int)[::-1]:\n",
    "                if column[i] == 0:\n",
    "                    column[i] = player\n",
    "                    break\n",
    "            return i\n",
    "\n",
    "\n",
    "    def isBoardFull(self):\n",
    "        \"\"\"\n",
    "        DOCSTRING: \n",
    "        \"\"\"\n",
    "        return 0 not in self.board[0]\n",
    "\n",
    "\n",
    "\n",
    "    def a_toi_de_jouer(self, player, choice):\n",
    "        \"\"\"\n",
    "        DOCSTRING: \n",
    "        \"\"\"\n",
    "      \n",
    "        line = self.colChoice(player, choice) # Shall we play ?\n",
    "        if line < 0:\n",
    "            return line\n",
    "        \n",
    "        # Connect4 test on col\n",
    "        column = self.board[:,choice]\n",
    "        if np.all(column[line:line+4] == player) and len(column[line:line+4]) == 4:\n",
    "            return self.board, 1, True\n",
    "    \n",
    "        # Connect4 test on line\n",
    "        window = [player] * 4\n",
    "        test = np.convolve(self.board[line, max(0, choice-3):choice+4], window)\n",
    "        if player*4 in test:\n",
    "            return self.board, 1, True #2\n",
    "        \n",
    "        # Connect4 test on diag\n",
    "        board_padded = np.pad(self.board, (3, 3))\n",
    "        #m8 = self.board[max(0, line-4):line+4, max(0, choice-4):choice+4]\n",
    "        m8 = board_padded[line-3+3:line+4+3, choice-3+3:choice+4+3]\n",
    "    \n",
    "        d1 = np.diag(m8)\n",
    "        d2 = np.diag(m8[::-1])\n",
    "      \n",
    "      #\n",
    "        test = np.convolve(d1, window)\n",
    "        if player*4 in test:\n",
    "            return self.board, 1, True #3\n",
    "        \n",
    "        #\n",
    "        test = np.convolve(d2, window)\n",
    "        if player*4 in test:\n",
    "            return self.board, 1, True\n",
    "    \n",
    "\n",
    "\n",
    "class Interface():\n",
    "    \"\"\" terminal et graphique \"\"\"\n",
    "    pass\n",
    "\n",
    "\n",
    "\n",
    "\n",
    "#if __name__ == \"__main__\":\n",
    "    B = Board()\n",
    "    B.displayBoard()\n",
    "    player = 1\n",
    "    G = Gamer(player, 'rouge')\n",
    "    gamechoice = G.choicePlay()\n",
    "    for i in range(2) :\n",
    "       \n",
    "        if gamechoice == 1 or gamechoice == 2:\n",
    "            # the first gamer is only humain\n",
    "            G1 = HumanGamer(player, 'jaune')\n",
    "            choice1 = G1.input_humain()\n",
    "           \n",
    "           \n",
    "        if gamechoice == 3 :\n",
    "           # the first and the seconde gamers are CPU\n",
    "            G1 = CPUGamer(player,'jaune')\n",
    "            choice1 = G1.input_CPU()\n",
    "            \n",
    "        \n",
    "        B.colChoice(1,choice1)\n",
    "        B.displayBoard()\n",
    "        B.a_toi_de_jouer(player, choice1)\n",
    "       \n",
    "       ######### move to the second player\n",
    "        player += 1\n",
    "        if gamechoice == 1 :\n",
    "            # the second player are humain gamer\n",
    "            G2  = HumanGamer(player, 'rouge')\n",
    "            choice2 = G2.input_humain()\n",
    "        if gamechoice == 2 or gamechoice ==3 :\n",
    "            #the second gamer is a CPU gamer\n",
    "            G2  = CPUGamer(player, 'rouge')\n",
    "            choice2= G2.input_CPU()\n",
    "        B.colChoice(player,choice2)\n",
    "        B.displayBoard()\n",
    "        B.a_toi_de_jouer(player, choice2)\n",
    "        player -=1\n"
   ]
  },
  {
   "cell_type": "code",
   "execution_count": null,
   "metadata": {},
   "outputs": [],
   "source": []
  }
 ],
 "metadata": {
  "kernelspec": {
   "display_name": "Python 3",
   "language": "python",
   "name": "python3"
  },
  "language_info": {
   "codemirror_mode": {
    "name": "ipython",
    "version": 3
   },
   "file_extension": ".py",
   "mimetype": "text/x-python",
   "name": "python",
   "nbconvert_exporter": "python",
   "pygments_lexer": "ipython3",
   "version": "3.7.9"
  }
 },
 "nbformat": 4,
 "nbformat_minor": 4
}
